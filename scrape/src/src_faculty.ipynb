{
 "cells": [
  {
   "metadata": {
    "ExecuteTime": {
     "end_time": "2024-11-09T17:31:04.354766Z",
     "start_time": "2024-11-09T17:31:04.351051Z"
    }
   },
   "cell_type": "code",
   "source": [
    "import pandas as pd\n",
    "import httpx as httpx\n",
    "import json\n",
    "import re\n",
    "from bs4 import BeautifulSoup\n",
    "from sympy.integrals.meijerint_doc import category"
   ],
   "id": "fbbde8c6dbd495ed",
   "outputs": [],
   "execution_count": 3
  },
  {
   "metadata": {
    "ExecuteTime": {
     "end_time": "2024-11-09T17:31:12.249603Z",
     "start_time": "2024-11-09T17:31:12.244091Z"
    }
   },
   "cell_type": "code",
   "source": [
    "urls = [\n",
    "    \"/world-university-rankings/koc-university\",\n",
    "    \"/world-university-rankings/middle-east-technical-university\",\n",
    "    \"/world-university-rankings/sabanci-university\",\n",
    "    \"/world-university-rankings/istanbul-technical-university\",\n",
    "    \"/world-university-rankings/bilkent-university\",\n",
    "    \"/world-university-rankings/bogazici-university\",\n",
    "    \"/world-university-rankings/hacettepe-university\",\n",
    "    \"/world-university-rankings/yildiz-technical-university\",\n",
    "    \"/world-university-rankings/ataturk-university\",\n",
    "    \"/world-university-rankings/istanbul-university-cerrahpasa-0\",\n",
    "    \"/world-university-rankings/selcuk-university\",\n",
    "    \"/world-university-rankings/akdeniz-university\",\n",
    "    \"/world-university-rankings/ege-university\",\n",
    "    \"/world-university-rankings/erciyes-university\",\n",
    "    \"/world-university-rankings/firat-university\",\n",
    "    \"/world-university-rankings/gazi-universitesi\",\n",
    "    \"/world-university-rankings/gebze-technical-university\",\n",
    "    \"/world-university-rankings/istanbul-university\",\n",
    "    \"/world-university-rankings/ankara-university\",\n",
    "    \"/world-university-rankings/bursa-uludag-university\",\n",
    "    \"/world-university-rankings/cukurova-university\",\n",
    "    \"/world-university-rankings/dokuz-eylul-university\",\n",
    "    \"/world-university-rankings/gaziantep-university\",\n",
    "    \"/world-university-rankings/izmir-institute-technology\",\n",
    "    \"/world-university-rankings/karadeniz-technical-university\",\n",
    "    \"/world-university-rankings/kocaeli-university\",\n",
    "    \"/world-university-rankings/marmara-university\",\n",
    "    \"/world-university-rankings/ondokuz-mayis-university\",\n",
    "    \"/world-university-rankings/sakarya-university\"\n",
    "]\n",
    "\n",
    "uni_names = [\n",
    "    \"Koc University\",\n",
    "    \"Middle East Technical University\",\n",
    "    \"Sabanci University\",\n",
    "    \"Istanbul Technical University\",\n",
    "    \"Bilkent University\",\n",
    "    \"Bogazici University\",\n",
    "    \"Hacettepe University\",\n",
    "    \"Yildiz Technical University\",\n",
    "    \"Ataturk University\",\n",
    "    \"Istanbul University Cerrahpasa\",\n",
    "    \"Selcuk University\",\n",
    "    \"Akdeniz University\",\n",
    "    \"Ege University\",\n",
    "    \"Erciyes University\",\n",
    "    \"Firat University\",\n",
    "    \"Gazi Universitesi\",\n",
    "    \"Gebze Technical University\",\n",
    "    \"Istanbul University\",\n",
    "    \"Ankara University\",\n",
    "    \"Bursa Uludag University\",\n",
    "    \"Cukurova University\",\n",
    "    \"Dokuz Eylul University\",\n",
    "    \"Gaziantep University\",\n",
    "    \"Izmir Institute Technology\",\n",
    "    \"Karadeniz Technical University\",\n",
    "    \"Kocaeli University\",\n",
    "    \"Marmara University\",\n",
    "    \"Ondokuz Mayis University\",\n",
    "    \"Sakarya University\"\n",
    "]"
   ],
   "id": "4c2a34c2e9ae20c",
   "outputs": [],
   "execution_count": 4
  },
  {
   "metadata": {
    "ExecuteTime": {
     "end_time": "2024-11-09T17:53:23.558678Z",
     "start_time": "2024-11-09T17:53:04.153157Z"
    }
   },
   "cell_type": "code",
   "source": [
    "for url in urls:  \n",
    "    http = httpx.get('https://www.timeshighereducation.com' + url)\n",
    "    \n",
    "    result =  BeautifulSoup(http.text, 'html.parser')\n",
    "    #  <script id=\"__NEXT_DATA__\" type=\"application/json\">\n",
    "    print('url :', url)\n",
    "    try:\n",
    "        json_ = result.find_all('script', {'id': '__NEXT_DATA__'})[0].string\n",
    "    except:\n",
    "        print('Error: __NEXT_DATA__ not found')\n",
    "        continue\n",
    "    \n",
    "    \n",
    "    json_ = json.loads(json_)\n",
    "    \n",
    "    json_ = json_['props']['pageProps']['viewProps']['wurRankingsGRAData']\n",
    "    \n",
    "    # save\n",
    "   \n",
    "    \n",
    "    \n",
    "    \n",
    "    data = {\n",
    "        'name': [],\n",
    "        'year': [],\n",
    "        'university': [],\n",
    "        'perFemaleRatio': [],\n",
    "        'perInternationalStudents': [],\n",
    "        'studentsPerStaff': [],\n",
    "        'TotalStudents': [],\n",
    "        'artsAndHumanities_Rank': [],\n",
    "        'artsAndHumanities_Score': [],\n",
    "        'artsAndHumanities_Teaching_Score': [],\n",
    "        'artsAndHumanities_Research Environment_Score': [],\n",
    "        'artsAndHumanities_Research Quality_Score': [],\n",
    "        'artsAndHumanities_International Outlook_Score': [],\n",
    "        'artsAndHumanities_Citations_Score': [],\n",
    "        'artsAndHumanities_Research_Score': [],\n",
    "        'businessAndEconomics_Rank': [],\n",
    "        'businessAndEconomics_Score': [],\n",
    "        'businessAndEconomics_Teaching_Score': [],\n",
    "        'businessAndEconomics_Research Environment_Score': [],\n",
    "        'businessAndEconomics_Research Quality_Score': [],\n",
    "        'businessAndEconomics_International Outlook_Score': [],\n",
    "        'businessAndEconomics_Citations_Score': [],\n",
    "        'businessAndEconomics_Research_Score': [],\n",
    "        'clinicalAndHealth_Rank': [],\n",
    "        'clinicalAndHealth_Score': [],\n",
    "        'clinicalAndHealth_Teaching_Score': [],\n",
    "        'clinicalAndHealth_Research Environment_Score': [],\n",
    "        'clinicalAndHealth_Research Quality_Score': [],\n",
    "        'clinicalAndHealth_International Outlook_Score': [],\n",
    "        'clinicalAndHealth_Citations_Score': [],\n",
    "        'clinicalAndHealth_Research_Score': [],\n",
    "        'engineeringTechnology_Rank': [],\n",
    "        'engineeringTechnology_Score': [],\n",
    "        'engineeringTechnology_Teaching_Score': [],\n",
    "        'engineeringTechnology_Research Environment_Score': [],\n",
    "        'engineeringTechnology_Research Quality_Score': [],\n",
    "        'engineeringTechnology_International Outlook_Score': [],\n",
    "        'engineeringTechnology_Citations_Score': [],\n",
    "        'engineeringTechnology_Research_Score': [],\n",
    "        'physicalSciences_Rank': [],\n",
    "        'physicalSciences_Score': [],\n",
    "        'physicalSciences_Teaching_Score': [],\n",
    "        'physicalSciences_Research Environment_Score': [],\n",
    "        'physicalSciences_Research Quality_Score': [],\n",
    "        'physicalSciences_International Outlook_Score': [],\n",
    "        'physicalSciences_Citations_Score': [],\n",
    "        'physicalSciences_Research_Score': [],\n",
    "        'psychology_Rank': [],\n",
    "        'psychology_Score': [],\n",
    "        'psychology_Teaching_Score': [],\n",
    "        'psychology_Research Environment_Score': [],\n",
    "        'psychology_Research Quality_Score': [],\n",
    "        'psychology_International Outlook_Score': [],\n",
    "        'psychology_Citations_Score': [],\n",
    "        'psychology_Research_Score': [],\n",
    "        'socialSciences_Rank': [],\n",
    "        'socialSciences_Score': [],\n",
    "        'socialSciences_Teaching_Score': [],\n",
    "        'socialSciences_Research Environment_Score': [],\n",
    "        'socialSciences_Research Quality_Score': [],\n",
    "        'socialSciences_International Outlook_Score': [],\n",
    "        'socialSciences_Citations_Score': [],\n",
    "        'socialSciences_Research_Score': [],\n",
    "        'overall_Rank': [],\n",
    "        'overall_Score': [],\n",
    "        'overall_Teaching_Score': [],\n",
    "        'overall_Research Environment_Score': [],\n",
    "        'overall_Research Quality_Score': [],\n",
    "        'overall_International Outlook_Score': [],\n",
    "        'overall_Citations_Score': [],\n",
    "        'overall_Research_Score': []\n",
    "    }\n",
    "    \n",
    "    df = pd.DataFrame(columns=data.keys())\n",
    "         \n",
    "    # Kategoriler ve alt alanlar (sub) için tüm gerekli anahtarları listeleyelim\n",
    "    categories = [\n",
    "        'artsAndHumanities', 'businessAndEconomics', 'clinicalAndHealth',\n",
    "        'engineeringTechnology', 'physicalSciences', 'psychology', 'socialSciences', 'overall'\n",
    "    ]\n",
    "    sub_fields = [\n",
    "        'Teaching', 'Research Environment', 'Research Quality', \n",
    "        'International Outlook', 'Citations', 'Research'\n",
    "    ]\n",
    "    \n",
    "    # Veriyi işleme döngüsü\n",
    "    for i in json_:\n",
    "        # Ana veriler\n",
    "        data['name'].append(i.get('name', None))\n",
    "        data['year'].append(i.get('year', None))\n",
    "        data['university'].append(i.get('institutionData', {}).get('institution', {}).get('name', None))\n",
    "        data['perFemaleRatio'].append(i.get('institutionsData', {}).get('data', [{}])[0].get('femaleStudentPercentage', None))\n",
    "        data['perInternationalStudents'].append(i.get('institutionsData', {}).get('data', [{}])[0].get('internationalStudentPercentage', None))\n",
    "        data['studentsPerStaff'].append(i.get('institutionsData', {}).get('data', [{}])[0].get('studentsPerStaff', None))\n",
    "        data['TotalStudents'].append(i.get('institutionsData', {}).get('data', [{}])[0].get('totalStudents', None))\n",
    "        \n",
    "        # Tüm kategoriler için varsayılan olarak None değerlerini ekle\n",
    "        for cat in categories:\n",
    "            data[f'{cat}_Rank'].append(None)\n",
    "            data[f'{cat}_Score'].append(None)\n",
    "            for sub in sub_fields:\n",
    "                data[f'{cat}_{sub}_Score'].append(None)\n",
    "    \n",
    "        # Kategorilerdeki veriyi güncelle\n",
    "        for j in i.get('level1s', []):\n",
    "            cat_key = j.get('key')\n",
    "            if cat_key in categories:\n",
    "                # Ana kategori skor ve sıralaması\n",
    "                data[f'{cat_key}_Rank'][-1] = j.get('result', {}).get('rank', {}).get('lower', None)\n",
    "                data[f'{cat_key}_Score'][-1] = j.get('result', {}).get('score', {}).get('lower', None)\n",
    "                \n",
    "                # Alt alanları güncelle\n",
    "                for k in j.get('level2s', []):\n",
    "                    sub_name = k.get('name')\n",
    "                    if sub_name in sub_fields:\n",
    "                        data[f'{cat_key}_{sub_name}_Score'][-1] = k.get('result', {}).get('score', None)\n",
    "    \n",
    "\n",
    "\n",
    "\n",
    "    df = pd.DataFrame(data)\n",
    "    df['url'] = url\n",
    "    try:\n",
    "        main_df = pd.concat([main_df, df])\n",
    "    except:\n",
    "        main_df = df\n",
    "    \n",
    "    \n",
    "        \n"
   ],
   "id": "6b32fe062277fb81",
   "outputs": [
    {
     "name": "stdout",
     "output_type": "stream",
     "text": [
      "url : /world-university-rankings/koc-university\n",
      "url : /world-university-rankings/middle-east-technical-university\n"
     ]
    },
    {
     "name": "stderr",
     "output_type": "stream",
     "text": [
      "C:\\Users\\firat\\AppData\\Local\\Temp\\ipykernel_34560\\1568634348.py:147: FutureWarning: The behavior of DataFrame concatenation with empty or all-NA entries is deprecated. In a future version, this will no longer exclude empty or all-NA columns when determining the result dtypes. To retain the old behavior, exclude the relevant entries before the concat operation.\n",
      "  main_df = pd.concat([main_df, df])\n"
     ]
    },
    {
     "name": "stdout",
     "output_type": "stream",
     "text": [
      "url : /world-university-rankings/sabanci-university\n"
     ]
    },
    {
     "name": "stderr",
     "output_type": "stream",
     "text": [
      "C:\\Users\\firat\\AppData\\Local\\Temp\\ipykernel_34560\\1568634348.py:147: FutureWarning: The behavior of DataFrame concatenation with empty or all-NA entries is deprecated. In a future version, this will no longer exclude empty or all-NA columns when determining the result dtypes. To retain the old behavior, exclude the relevant entries before the concat operation.\n",
      "  main_df = pd.concat([main_df, df])\n"
     ]
    },
    {
     "name": "stdout",
     "output_type": "stream",
     "text": [
      "url : /world-university-rankings/istanbul-technical-university\n"
     ]
    },
    {
     "name": "stderr",
     "output_type": "stream",
     "text": [
      "C:\\Users\\firat\\AppData\\Local\\Temp\\ipykernel_34560\\1568634348.py:147: FutureWarning: The behavior of DataFrame concatenation with empty or all-NA entries is deprecated. In a future version, this will no longer exclude empty or all-NA columns when determining the result dtypes. To retain the old behavior, exclude the relevant entries before the concat operation.\n",
      "  main_df = pd.concat([main_df, df])\n"
     ]
    },
    {
     "name": "stdout",
     "output_type": "stream",
     "text": [
      "url : /world-university-rankings/bilkent-university\n"
     ]
    },
    {
     "name": "stderr",
     "output_type": "stream",
     "text": [
      "C:\\Users\\firat\\AppData\\Local\\Temp\\ipykernel_34560\\1568634348.py:147: FutureWarning: The behavior of DataFrame concatenation with empty or all-NA entries is deprecated. In a future version, this will no longer exclude empty or all-NA columns when determining the result dtypes. To retain the old behavior, exclude the relevant entries before the concat operation.\n",
      "  main_df = pd.concat([main_df, df])\n"
     ]
    },
    {
     "name": "stdout",
     "output_type": "stream",
     "text": [
      "url : /world-university-rankings/bogazici-university\n"
     ]
    },
    {
     "name": "stderr",
     "output_type": "stream",
     "text": [
      "C:\\Users\\firat\\AppData\\Local\\Temp\\ipykernel_34560\\1568634348.py:147: FutureWarning: The behavior of DataFrame concatenation with empty or all-NA entries is deprecated. In a future version, this will no longer exclude empty or all-NA columns when determining the result dtypes. To retain the old behavior, exclude the relevant entries before the concat operation.\n",
      "  main_df = pd.concat([main_df, df])\n"
     ]
    },
    {
     "name": "stdout",
     "output_type": "stream",
     "text": [
      "url : /world-university-rankings/hacettepe-university\n"
     ]
    },
    {
     "name": "stderr",
     "output_type": "stream",
     "text": [
      "C:\\Users\\firat\\AppData\\Local\\Temp\\ipykernel_34560\\1568634348.py:147: FutureWarning: The behavior of DataFrame concatenation with empty or all-NA entries is deprecated. In a future version, this will no longer exclude empty or all-NA columns when determining the result dtypes. To retain the old behavior, exclude the relevant entries before the concat operation.\n",
      "  main_df = pd.concat([main_df, df])\n"
     ]
    },
    {
     "name": "stdout",
     "output_type": "stream",
     "text": [
      "url : /world-university-rankings/yildiz-technical-university\n"
     ]
    },
    {
     "name": "stderr",
     "output_type": "stream",
     "text": [
      "C:\\Users\\firat\\AppData\\Local\\Temp\\ipykernel_34560\\1568634348.py:147: FutureWarning: The behavior of DataFrame concatenation with empty or all-NA entries is deprecated. In a future version, this will no longer exclude empty or all-NA columns when determining the result dtypes. To retain the old behavior, exclude the relevant entries before the concat operation.\n",
      "  main_df = pd.concat([main_df, df])\n"
     ]
    },
    {
     "name": "stdout",
     "output_type": "stream",
     "text": [
      "url : /world-university-rankings/ataturk-university\n"
     ]
    },
    {
     "name": "stderr",
     "output_type": "stream",
     "text": [
      "C:\\Users\\firat\\AppData\\Local\\Temp\\ipykernel_34560\\1568634348.py:147: FutureWarning: The behavior of DataFrame concatenation with empty or all-NA entries is deprecated. In a future version, this will no longer exclude empty or all-NA columns when determining the result dtypes. To retain the old behavior, exclude the relevant entries before the concat operation.\n",
      "  main_df = pd.concat([main_df, df])\n"
     ]
    },
    {
     "name": "stdout",
     "output_type": "stream",
     "text": [
      "url : /world-university-rankings/istanbul-university-cerrahpasa-0\n",
      "Error: __NEXT_DATA__ not found\n",
      "url : /world-university-rankings/selcuk-university\n"
     ]
    },
    {
     "name": "stderr",
     "output_type": "stream",
     "text": [
      "C:\\Users\\firat\\AppData\\Local\\Temp\\ipykernel_34560\\1568634348.py:147: FutureWarning: The behavior of DataFrame concatenation with empty or all-NA entries is deprecated. In a future version, this will no longer exclude empty or all-NA columns when determining the result dtypes. To retain the old behavior, exclude the relevant entries before the concat operation.\n",
      "  main_df = pd.concat([main_df, df])\n"
     ]
    },
    {
     "name": "stdout",
     "output_type": "stream",
     "text": [
      "url : /world-university-rankings/akdeniz-university\n"
     ]
    },
    {
     "name": "stderr",
     "output_type": "stream",
     "text": [
      "C:\\Users\\firat\\AppData\\Local\\Temp\\ipykernel_34560\\1568634348.py:147: FutureWarning: The behavior of DataFrame concatenation with empty or all-NA entries is deprecated. In a future version, this will no longer exclude empty or all-NA columns when determining the result dtypes. To retain the old behavior, exclude the relevant entries before the concat operation.\n",
      "  main_df = pd.concat([main_df, df])\n"
     ]
    },
    {
     "name": "stdout",
     "output_type": "stream",
     "text": [
      "url : /world-university-rankings/ege-university\n"
     ]
    },
    {
     "name": "stderr",
     "output_type": "stream",
     "text": [
      "C:\\Users\\firat\\AppData\\Local\\Temp\\ipykernel_34560\\1568634348.py:147: FutureWarning: The behavior of DataFrame concatenation with empty or all-NA entries is deprecated. In a future version, this will no longer exclude empty or all-NA columns when determining the result dtypes. To retain the old behavior, exclude the relevant entries before the concat operation.\n",
      "  main_df = pd.concat([main_df, df])\n"
     ]
    },
    {
     "name": "stdout",
     "output_type": "stream",
     "text": [
      "url : /world-university-rankings/erciyes-university\n"
     ]
    },
    {
     "name": "stderr",
     "output_type": "stream",
     "text": [
      "C:\\Users\\firat\\AppData\\Local\\Temp\\ipykernel_34560\\1568634348.py:147: FutureWarning: The behavior of DataFrame concatenation with empty or all-NA entries is deprecated. In a future version, this will no longer exclude empty or all-NA columns when determining the result dtypes. To retain the old behavior, exclude the relevant entries before the concat operation.\n",
      "  main_df = pd.concat([main_df, df])\n"
     ]
    },
    {
     "name": "stdout",
     "output_type": "stream",
     "text": [
      "url : /world-university-rankings/firat-university\n"
     ]
    },
    {
     "name": "stderr",
     "output_type": "stream",
     "text": [
      "C:\\Users\\firat\\AppData\\Local\\Temp\\ipykernel_34560\\1568634348.py:147: FutureWarning: The behavior of DataFrame concatenation with empty or all-NA entries is deprecated. In a future version, this will no longer exclude empty or all-NA columns when determining the result dtypes. To retain the old behavior, exclude the relevant entries before the concat operation.\n",
      "  main_df = pd.concat([main_df, df])\n"
     ]
    },
    {
     "name": "stdout",
     "output_type": "stream",
     "text": [
      "url : /world-university-rankings/gazi-universitesi\n"
     ]
    },
    {
     "name": "stderr",
     "output_type": "stream",
     "text": [
      "C:\\Users\\firat\\AppData\\Local\\Temp\\ipykernel_34560\\1568634348.py:147: FutureWarning: The behavior of DataFrame concatenation with empty or all-NA entries is deprecated. In a future version, this will no longer exclude empty or all-NA columns when determining the result dtypes. To retain the old behavior, exclude the relevant entries before the concat operation.\n",
      "  main_df = pd.concat([main_df, df])\n"
     ]
    },
    {
     "name": "stdout",
     "output_type": "stream",
     "text": [
      "url : /world-university-rankings/gebze-technical-university\n"
     ]
    },
    {
     "name": "stderr",
     "output_type": "stream",
     "text": [
      "C:\\Users\\firat\\AppData\\Local\\Temp\\ipykernel_34560\\1568634348.py:147: FutureWarning: The behavior of DataFrame concatenation with empty or all-NA entries is deprecated. In a future version, this will no longer exclude empty or all-NA columns when determining the result dtypes. To retain the old behavior, exclude the relevant entries before the concat operation.\n",
      "  main_df = pd.concat([main_df, df])\n"
     ]
    },
    {
     "name": "stdout",
     "output_type": "stream",
     "text": [
      "url : /world-university-rankings/istanbul-university\n"
     ]
    },
    {
     "name": "stderr",
     "output_type": "stream",
     "text": [
      "C:\\Users\\firat\\AppData\\Local\\Temp\\ipykernel_34560\\1568634348.py:147: FutureWarning: The behavior of DataFrame concatenation with empty or all-NA entries is deprecated. In a future version, this will no longer exclude empty or all-NA columns when determining the result dtypes. To retain the old behavior, exclude the relevant entries before the concat operation.\n",
      "  main_df = pd.concat([main_df, df])\n"
     ]
    },
    {
     "name": "stdout",
     "output_type": "stream",
     "text": [
      "url : /world-university-rankings/ankara-university\n"
     ]
    },
    {
     "name": "stderr",
     "output_type": "stream",
     "text": [
      "C:\\Users\\firat\\AppData\\Local\\Temp\\ipykernel_34560\\1568634348.py:147: FutureWarning: The behavior of DataFrame concatenation with empty or all-NA entries is deprecated. In a future version, this will no longer exclude empty or all-NA columns when determining the result dtypes. To retain the old behavior, exclude the relevant entries before the concat operation.\n",
      "  main_df = pd.concat([main_df, df])\n"
     ]
    },
    {
     "name": "stdout",
     "output_type": "stream",
     "text": [
      "url : /world-university-rankings/bursa-uludag-university\n"
     ]
    },
    {
     "name": "stderr",
     "output_type": "stream",
     "text": [
      "C:\\Users\\firat\\AppData\\Local\\Temp\\ipykernel_34560\\1568634348.py:147: FutureWarning: The behavior of DataFrame concatenation with empty or all-NA entries is deprecated. In a future version, this will no longer exclude empty or all-NA columns when determining the result dtypes. To retain the old behavior, exclude the relevant entries before the concat operation.\n",
      "  main_df = pd.concat([main_df, df])\n"
     ]
    },
    {
     "name": "stdout",
     "output_type": "stream",
     "text": [
      "url : /world-university-rankings/cukurova-university\n"
     ]
    },
    {
     "name": "stderr",
     "output_type": "stream",
     "text": [
      "C:\\Users\\firat\\AppData\\Local\\Temp\\ipykernel_34560\\1568634348.py:147: FutureWarning: The behavior of DataFrame concatenation with empty or all-NA entries is deprecated. In a future version, this will no longer exclude empty or all-NA columns when determining the result dtypes. To retain the old behavior, exclude the relevant entries before the concat operation.\n",
      "  main_df = pd.concat([main_df, df])\n"
     ]
    },
    {
     "name": "stdout",
     "output_type": "stream",
     "text": [
      "url : /world-university-rankings/dokuz-eylul-university\n"
     ]
    },
    {
     "name": "stderr",
     "output_type": "stream",
     "text": [
      "C:\\Users\\firat\\AppData\\Local\\Temp\\ipykernel_34560\\1568634348.py:147: FutureWarning: The behavior of DataFrame concatenation with empty or all-NA entries is deprecated. In a future version, this will no longer exclude empty or all-NA columns when determining the result dtypes. To retain the old behavior, exclude the relevant entries before the concat operation.\n",
      "  main_df = pd.concat([main_df, df])\n"
     ]
    },
    {
     "name": "stdout",
     "output_type": "stream",
     "text": [
      "url : /world-university-rankings/gaziantep-university\n"
     ]
    },
    {
     "name": "stderr",
     "output_type": "stream",
     "text": [
      "C:\\Users\\firat\\AppData\\Local\\Temp\\ipykernel_34560\\1568634348.py:147: FutureWarning: The behavior of DataFrame concatenation with empty or all-NA entries is deprecated. In a future version, this will no longer exclude empty or all-NA columns when determining the result dtypes. To retain the old behavior, exclude the relevant entries before the concat operation.\n",
      "  main_df = pd.concat([main_df, df])\n"
     ]
    },
    {
     "name": "stdout",
     "output_type": "stream",
     "text": [
      "url : /world-university-rankings/izmir-institute-technology\n"
     ]
    },
    {
     "name": "stderr",
     "output_type": "stream",
     "text": [
      "C:\\Users\\firat\\AppData\\Local\\Temp\\ipykernel_34560\\1568634348.py:147: FutureWarning: The behavior of DataFrame concatenation with empty or all-NA entries is deprecated. In a future version, this will no longer exclude empty or all-NA columns when determining the result dtypes. To retain the old behavior, exclude the relevant entries before the concat operation.\n",
      "  main_df = pd.concat([main_df, df])\n"
     ]
    },
    {
     "name": "stdout",
     "output_type": "stream",
     "text": [
      "url : /world-university-rankings/karadeniz-technical-university\n"
     ]
    },
    {
     "name": "stderr",
     "output_type": "stream",
     "text": [
      "C:\\Users\\firat\\AppData\\Local\\Temp\\ipykernel_34560\\1568634348.py:147: FutureWarning: The behavior of DataFrame concatenation with empty or all-NA entries is deprecated. In a future version, this will no longer exclude empty or all-NA columns when determining the result dtypes. To retain the old behavior, exclude the relevant entries before the concat operation.\n",
      "  main_df = pd.concat([main_df, df])\n"
     ]
    },
    {
     "name": "stdout",
     "output_type": "stream",
     "text": [
      "url : /world-university-rankings/kocaeli-university\n"
     ]
    },
    {
     "name": "stderr",
     "output_type": "stream",
     "text": [
      "C:\\Users\\firat\\AppData\\Local\\Temp\\ipykernel_34560\\1568634348.py:147: FutureWarning: The behavior of DataFrame concatenation with empty or all-NA entries is deprecated. In a future version, this will no longer exclude empty or all-NA columns when determining the result dtypes. To retain the old behavior, exclude the relevant entries before the concat operation.\n",
      "  main_df = pd.concat([main_df, df])\n"
     ]
    },
    {
     "name": "stdout",
     "output_type": "stream",
     "text": [
      "url : /world-university-rankings/marmara-university\n"
     ]
    },
    {
     "name": "stderr",
     "output_type": "stream",
     "text": [
      "C:\\Users\\firat\\AppData\\Local\\Temp\\ipykernel_34560\\1568634348.py:147: FutureWarning: The behavior of DataFrame concatenation with empty or all-NA entries is deprecated. In a future version, this will no longer exclude empty or all-NA columns when determining the result dtypes. To retain the old behavior, exclude the relevant entries before the concat operation.\n",
      "  main_df = pd.concat([main_df, df])\n"
     ]
    },
    {
     "name": "stdout",
     "output_type": "stream",
     "text": [
      "url : /world-university-rankings/ondokuz-mayis-university\n"
     ]
    },
    {
     "name": "stderr",
     "output_type": "stream",
     "text": [
      "C:\\Users\\firat\\AppData\\Local\\Temp\\ipykernel_34560\\1568634348.py:147: FutureWarning: The behavior of DataFrame concatenation with empty or all-NA entries is deprecated. In a future version, this will no longer exclude empty or all-NA columns when determining the result dtypes. To retain the old behavior, exclude the relevant entries before the concat operation.\n",
      "  main_df = pd.concat([main_df, df])\n"
     ]
    },
    {
     "name": "stdout",
     "output_type": "stream",
     "text": [
      "url : /world-university-rankings/sakarya-university\n"
     ]
    },
    {
     "name": "stderr",
     "output_type": "stream",
     "text": [
      "C:\\Users\\firat\\AppData\\Local\\Temp\\ipykernel_34560\\1568634348.py:147: FutureWarning: The behavior of DataFrame concatenation with empty or all-NA entries is deprecated. In a future version, this will no longer exclude empty or all-NA columns when determining the result dtypes. To retain the old behavior, exclude the relevant entries before the concat operation.\n",
      "  main_df = pd.concat([main_df, df])\n"
     ]
    }
   ],
   "execution_count": 20
  },
  {
   "metadata": {
    "ExecuteTime": {
     "end_time": "2024-11-09T17:41:50.448329Z",
     "start_time": "2024-11-09T17:41:49.589969Z"
    }
   },
   "cell_type": "code",
   "source": [
    "http = httpx.get('https://www.timeshighereducation.com/world-university-rankings/dokuz-eylul-university')\n",
    "\n",
    "result =  BeautifulSoup(http.text, 'html.parser')\n",
    "\n",
    "json_ = result.find_all('script', {'id': '__NEXT_DATA__'})[0].string\n",
    "\n",
    "json_ = json.loads(json_)\n",
    "\n",
    "json_ = json_['props']['pageProps']['viewProps']['wurRankingsGRAData']\n",
    "\n",
    "with open('data.json', 'w') as f:\n",
    "    json.dump(json_, f)\n",
    "    "
   ],
   "id": "f15f39896db433",
   "outputs": [],
   "execution_count": 18
  },
  {
   "metadata": {
    "ExecuteTime": {
     "end_time": "2024-11-09T17:52:55.393673Z",
     "start_time": "2024-11-09T17:52:55.371904Z"
    }
   },
   "cell_type": "code",
   "source": "del main_df, df",
   "id": "a227e04bccf4f728",
   "outputs": [],
   "execution_count": 19
  },
  {
   "metadata": {
    "ExecuteTime": {
     "end_time": "2024-11-09T17:59:51.014166Z",
     "start_time": "2024-11-09T17:59:51.007756Z"
    }
   },
   "cell_type": "code",
   "source": [
    "main_df.drop('url', axis=1, inplace=True)\n",
    "\n"
   ],
   "id": "c04318fdd86654cd",
   "outputs": [],
   "execution_count": 24
  },
  {
   "metadata": {
    "ExecuteTime": {
     "end_time": "2024-11-09T18:00:15.773741Z",
     "start_time": "2024-11-09T18:00:15.202978Z"
    }
   },
   "cell_type": "code",
   "source": "main_df.to_excel('lowerTHE.xlsx', index=False)",
   "id": "c8625db4db46f213",
   "outputs": [],
   "execution_count": 25
  },
  {
   "metadata": {
    "ExecuteTime": {
     "end_time": "2024-11-09T18:02:55.921995Z",
     "start_time": "2024-11-09T18:02:55.915722Z"
    }
   },
   "cell_type": "code",
   "source": "main_df.columns",
   "id": "9cac3488fb1c24bd",
   "outputs": [
    {
     "data": {
      "text/plain": [
       "Index(['name', 'year', 'university', 'perFemaleRatio',\n",
       "       'perInternationalStudents', 'studentsPerStaff', 'TotalStudents',\n",
       "       'artsAndHumanities_Rank', 'artsAndHumanities_Score',\n",
       "       'artsAndHumanities_Teaching_Score',\n",
       "       'artsAndHumanities_Research Environment_Score',\n",
       "       'artsAndHumanities_Research Quality_Score',\n",
       "       'artsAndHumanities_International Outlook_Score',\n",
       "       'artsAndHumanities_Citations_Score', 'artsAndHumanities_Research_Score',\n",
       "       'businessAndEconomics_Rank', 'businessAndEconomics_Score',\n",
       "       'businessAndEconomics_Teaching_Score',\n",
       "       'businessAndEconomics_Research Environment_Score',\n",
       "       'businessAndEconomics_Research Quality_Score',\n",
       "       'businessAndEconomics_International Outlook_Score',\n",
       "       'businessAndEconomics_Citations_Score',\n",
       "       'businessAndEconomics_Research_Score', 'clinicalAndHealth_Rank',\n",
       "       'clinicalAndHealth_Score', 'clinicalAndHealth_Teaching_Score',\n",
       "       'clinicalAndHealth_Research Environment_Score',\n",
       "       'clinicalAndHealth_Research Quality_Score',\n",
       "       'clinicalAndHealth_International Outlook_Score',\n",
       "       'clinicalAndHealth_Citations_Score', 'clinicalAndHealth_Research_Score',\n",
       "       'engineeringTechnology_Rank', 'engineeringTechnology_Score',\n",
       "       'engineeringTechnology_Teaching_Score',\n",
       "       'engineeringTechnology_Research Environment_Score',\n",
       "       'engineeringTechnology_Research Quality_Score',\n",
       "       'engineeringTechnology_International Outlook_Score',\n",
       "       'engineeringTechnology_Citations_Score',\n",
       "       'engineeringTechnology_Research_Score', 'physicalSciences_Rank',\n",
       "       'physicalSciences_Score', 'physicalSciences_Teaching_Score',\n",
       "       'physicalSciences_Research Environment_Score',\n",
       "       'physicalSciences_Research Quality_Score',\n",
       "       'physicalSciences_International Outlook_Score',\n",
       "       'physicalSciences_Citations_Score', 'physicalSciences_Research_Score',\n",
       "       'psychology_Rank', 'psychology_Score', 'psychology_Teaching_Score',\n",
       "       'psychology_Research Environment_Score',\n",
       "       'psychology_Research Quality_Score',\n",
       "       'psychology_International Outlook_Score', 'psychology_Citations_Score',\n",
       "       'psychology_Research_Score', 'socialSciences_Rank',\n",
       "       'socialSciences_Score', 'socialSciences_Teaching_Score',\n",
       "       'socialSciences_Research Environment_Score',\n",
       "       'socialSciences_Research Quality_Score',\n",
       "       'socialSciences_International Outlook_Score',\n",
       "       'socialSciences_Citations_Score', 'socialSciences_Research_Score',\n",
       "       'overall_Rank', 'overall_Score', 'overall_Teaching_Score',\n",
       "       'overall_Research Environment_Score', 'overall_Research Quality_Score',\n",
       "       'overall_International Outlook_Score', 'overall_Citations_Score',\n",
       "       'overall_Research_Score'],\n",
       "      dtype='object')"
      ]
     },
     "execution_count": 27,
     "metadata": {},
     "output_type": "execute_result"
    }
   ],
   "execution_count": 27
  }
 ],
 "metadata": {
  "kernelspec": {
   "display_name": "Python 3",
   "language": "python",
   "name": "python3"
  },
  "language_info": {
   "codemirror_mode": {
    "name": "ipython",
    "version": 2
   },
   "file_extension": ".py",
   "mimetype": "text/x-python",
   "name": "python",
   "nbconvert_exporter": "python",
   "pygments_lexer": "ipython2",
   "version": "2.7.6"
  }
 },
 "nbformat": 4,
 "nbformat_minor": 5
}
