{
 "cells": [
  {
   "cell_type": "code",
   "id": "initial_id",
   "metadata": {
    "collapsed": true,
    "ExecuteTime": {
     "end_time": "2024-11-27T09:35:11.061780Z",
     "start_time": "2024-11-27T09:35:11.057772Z"
    }
   },
   "source": [
    "import numpy as np\n",
    "import pandas as pd\n",
    "import matplotlib.pyplot as plt\n",
    "import seaborn as sns\n"
   ],
   "outputs": [],
   "execution_count": 1
  },
  {
   "metadata": {
    "ExecuteTime": {
     "end_time": "2024-11-27T10:14:01.714114Z",
     "start_time": "2024-11-27T10:14:01.708781Z"
    }
   },
   "cell_type": "code",
   "source": [
    "years = np.arange(2018,2026)\n",
    "\n",
    "def main_df():\n",
    "    for year in years:\n",
    "        df = pd.read_csv(f'../data/Benchmark/wur_Benchmark_{year}/Institution Statistics.csv')\n",
    "        df['year'] = year\n",
    "        if year == 2018:\n",
    "            df_all = df\n",
    "        else:\n",
    "            df_all = pd.concat([df_all, df])\n",
    "    return df_all.loc[df_all['Institution'] == 'Dokuz Eylul University']\n",
    "\n",
    "\n",
    "        \n",
    "    "
   ],
   "id": "46ec1a0e5119f80b",
   "outputs": [],
   "execution_count": 20
  },
  {
   "metadata": {
    "ExecuteTime": {
     "end_time": "2024-11-27T10:14:02.278678Z",
     "start_time": "2024-11-27T10:14:02.244637Z"
    }
   },
   "cell_type": "code",
   "source": "df = main_df()",
   "id": "359719f8730b7284",
   "outputs": [],
   "execution_count": 21
  },
  {
   "metadata": {
    "ExecuteTime": {
     "end_time": "2024-11-27T10:16:09.155848Z",
     "start_time": "2024-11-27T10:16:09.130524Z"
    }
   },
   "cell_type": "code",
   "source": [
    "#save\n",
    "df.to_excel('../data/result/DEU_Benchmark.xlsx')"
   ],
   "id": "65d15c0a4eb405b",
   "outputs": [],
   "execution_count": 26
  },
  {
   "metadata": {},
   "cell_type": "code",
   "outputs": [],
   "execution_count": null,
   "source": "",
   "id": "5bdae02dfa462c54"
  }
 ],
 "metadata": {
  "kernelspec": {
   "display_name": "Python 3",
   "language": "python",
   "name": "python3"
  },
  "language_info": {
   "codemirror_mode": {
    "name": "ipython",
    "version": 2
   },
   "file_extension": ".py",
   "mimetype": "text/x-python",
   "name": "python",
   "nbconvert_exporter": "python",
   "pygments_lexer": "ipython2",
   "version": "2.7.6"
  }
 },
 "nbformat": 4,
 "nbformat_minor": 5
}
